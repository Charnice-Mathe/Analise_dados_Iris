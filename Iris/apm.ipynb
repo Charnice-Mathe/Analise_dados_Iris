{
 "cells": [
  {
   "cell_type": "code",
   "execution_count": 1,
   "metadata": {},
   "outputs": [
    {
     "name": "stdout",
     "output_type": "stream",
     "text": [
      "y_pred\n",
      "A precisão do modelo é: 1.00\n"
     ]
    }
   ],
   "source": [
    "# Importar bibliotecas\n",
    "from sklearn import datasets\n",
    "from sklearn.model_selection import train_test_split\n",
    "from sklearn.tree import DecisionTreeClassifier\n",
    "from sklearn.metrics import accuracy_score\n",
    "\n",
    "# 1. Carregar o conjunto de dados Iris\n",
    "iris = datasets.load_iris()\n",
    "X = iris.data  # Características (comprimento/largura das pétalas e sépalas)\n",
    "y = iris.target  # Classes das flores (Setosa, Versicolor, Virginica)\n",
    "\n",
    "# 2. Dividir os dados em treino (80%) e teste (20%)\n",
    "X_train, X_test, y_train, y_test = train_test_split(X, y, test_size=0.2, random_state=42)\n",
    "\n",
    "# 3. Criar e treinar o modelo de Machine Learning\n",
    "modelo = DecisionTreeClassifier()  # Modelo de Árvore de Decisão\n",
    "modelo.fit(X_train, y_train)  # Treinar o modelo\n",
    "\n",
    "\n",
    "# 4. Fazer previsões no conjunto de teste\n",
    "y_pred = modelo.predict(X_test)\n",
    "print(f'y_pred')\n",
    "\n",
    "# 5. Avaliar o modelo com precisão (accuracy)\n",
    "precisao = accuracy_score(y_test, y_pred)\n",
    "print(f'A precisão do modelo é: {precisao:.2f}')\n",
    "\n"
   ]
  },
  {
   "cell_type": "code",
   "execution_count": 10,
   "metadata": {},
   "outputs": [
    {
     "name": "stdout",
     "output_type": "stream",
     "text": [
      "Melhores parâmetros: {'max_depth': 10, 'min_samples_split': 2, 'n_estimators': 50}\n",
      "Melhores parâmetros: {'n_estimators': 50, 'min_samples_split': 2, 'max_depth': 10}\n"
     ]
    }
   ],
   "source": [
    "from sklearn.model_selection import GridSearchCV\n",
    "from sklearn.ensemble import RandomForestRegressor\n",
    "\n",
    "# Criar modelo\n",
    "modelo = RandomForestRegressor()\n",
    "\n",
    "# Definir hiperparâmetros a testar\n",
    "parametros = {\n",
    "    \"n_estimators\": [50, 100, 200],\n",
    "    \"max_depth\": [None, 10, 20],\n",
    "    \"min_samples_split\": [2, 5, 10]\n",
    "}\n",
    "\n",
    "# Aplicar Grid Search\n",
    "grid_search = GridSearchCV(modelo, parametros, cv=5, scoring=\"neg_mean_absolute_error\", n_jobs=-1)\n",
    "grid_search.fit(X_train, y_train)\n",
    "\n",
    "# Melhor combinação de hiperparâmetros\n",
    "print(\"Melhores parâmetros:\", grid_search.best_params_)\n",
    "\n",
    "#outro Random Search (Busca Aleatória)\n",
    "\n",
    "from sklearn.model_selection import RandomizedSearchCV\n",
    "\n",
    "random_search = RandomizedSearchCV(modelo, parametros, n_iter=10, cv=5, scoring=\"neg_mean_absolute_error\", n_jobs=-1, random_state=42)\n",
    "random_search.fit(X_train, y_train)\n",
    "\n",
    "print(\"Melhores parâmetros:\", random_search.best_params_)\n",
    "\n",
    "# Optuna / Bayesian Optimization (Otimização Bayesiana)'\n",
    "#import optuna\n",
    "\n",
    "#def objetivo(trial):\n",
    "   ## max_depth = trial.suggest_int(\"max_depth\", 5, 50)\n",
    "    #n_estimators = trial.suggest_int(\"n_estimators\", 50, 500)\n",
    "    \n",
    "    #modelo = RandomForestRegressor(n_estimators=n_estimators, max_depth=max_depth)\n",
    "    #modelo.fit(X_train, y_train)\n",
    "    #return -mean_absolute_error(y_test, modelo.predict(X_test))\n",
    "\n",
    "##estudo = optuna.create_study(direction=\"minimize\")\n",
    "#estudo.optimize(objetivo, n_trials=30)\n",
    "\n",
    "\n"
   ]
  },
  {
   "cell_type": "markdown",
   "metadata": {},
   "source": [
    "#print(\"Melhores parâmetros:\", estudo.best_params)\n",
    "Qual método usar?\n",
    "✅ Se tiver poucos hiperparâmetros → Grid Search\n",
    "✅ Se precisar de rapidez → Random Search\n",
    "✅ Se quiser eficiência máxima → Optuna ou Bayesian Optimization"
   ]
  }
 ],
 "metadata": {
  "kernelspec": {
   "display_name": "base",
   "language": "python",
   "name": "python3"
  },
  "language_info": {
   "codemirror_mode": {
    "name": "ipython",
    "version": 3
   },
   "file_extension": ".py",
   "mimetype": "text/x-python",
   "name": "python",
   "nbconvert_exporter": "python",
   "pygments_lexer": "ipython3",
   "version": "3.12.4"
  }
 },
 "nbformat": 4,
 "nbformat_minor": 2
}
